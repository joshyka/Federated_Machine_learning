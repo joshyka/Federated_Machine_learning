{
  "nbformat": 4,
  "nbformat_minor": 0,
  "metadata": {
    "colab": {
      "name": "Quantize.ipynb",
      "provenance": [],
      "collapsed_sections": []
    },
    "kernelspec": {
      "name": "python3",
      "display_name": "Python 3"
    }
  },
  "cells": [
    {
      "cell_type": "code",
      "metadata": {
        "id": "FKDt8ck_orhU",
        "colab_type": "code",
        "colab": {
          "base_uri": "https://localhost:8080/",
          "height": 34
        },
        "outputId": "eb80e4a8-d533-4e69-b7d9-a7f22c2629e8"
      },
      "source": [
        "pip install -q tensorflow-model-optimization"
      ],
      "execution_count": 1,
      "outputs": [
        {
          "output_type": "stream",
          "text": [
            "\u001b[?25l\r\u001b[K     |██                              | 10kB 18.9MB/s eta 0:00:01\r\u001b[K     |███▉                            | 20kB 3.6MB/s eta 0:00:01\r\u001b[K     |█████▊                          | 30kB 4.9MB/s eta 0:00:01\r\u001b[K     |███████▋                        | 40kB 4.9MB/s eta 0:00:01\r\u001b[K     |█████████▌                      | 51kB 3.8MB/s eta 0:00:01\r\u001b[K     |███████████▍                    | 61kB 4.3MB/s eta 0:00:01\r\u001b[K     |█████████████▎                  | 71kB 4.8MB/s eta 0:00:01\r\u001b[K     |███████████████▏                | 81kB 5.1MB/s eta 0:00:01\r\u001b[K     |█████████████████               | 92kB 5.3MB/s eta 0:00:01\r\u001b[K     |███████████████████             | 102kB 3.7MB/s eta 0:00:01\r\u001b[K     |████████████████████▉           | 112kB 3.7MB/s eta 0:00:01\r\u001b[K     |██████████████████████▊         | 122kB 3.7MB/s eta 0:00:01\r\u001b[K     |████████████████████████▊       | 133kB 3.7MB/s eta 0:00:01\r\u001b[K     |██████████████████████████▋     | 143kB 3.7MB/s eta 0:00:01\r\u001b[K     |████████████████████████████▌   | 153kB 3.7MB/s eta 0:00:01\r\u001b[K     |██████████████████████████████▍ | 163kB 3.7MB/s eta 0:00:01\r\u001b[K     |████████████████████████████████| 174kB 3.7MB/s \n",
            "\u001b[?25h"
          ],
          "name": "stdout"
        }
      ]
    },
    {
      "cell_type": "code",
      "metadata": {
        "id": "9lWcWY0Uq-M8",
        "colab_type": "code",
        "colab": {
          "base_uri": "https://localhost:8080/",
          "height": 334
        },
        "outputId": "d9342528-ffd3-4db1-e551-8f4c26d57246"
      },
      "source": [
        "from keras.models import load_model\n",
        "model=load_model('global_model_100.h5')\n",
        "model.summary()"
      ],
      "execution_count": 2,
      "outputs": [
        {
          "output_type": "stream",
          "text": [
            "Model: \"sequential_1\"\n",
            "_________________________________________________________________\n",
            "Layer (type)                 Output Shape              Param #   \n",
            "=================================================================\n",
            "dense_1 (Dense)              (None, 16)                48        \n",
            "_________________________________________________________________\n",
            "dense_2 (Dense)              (None, 32)                544       \n",
            "_________________________________________________________________\n",
            "dense_3 (Dense)              (None, 64)                2112      \n",
            "_________________________________________________________________\n",
            "dense_4 (Dense)              (None, 64)                4160      \n",
            "_________________________________________________________________\n",
            "dense_5 (Dense)              (None, 1)                 65        \n",
            "=================================================================\n",
            "Total params: 6,929\n",
            "Trainable params: 6,929\n",
            "Non-trainable params: 0\n",
            "_________________________________________________________________\n"
          ],
          "name": "stdout"
        }
      ]
    },
    {
      "cell_type": "code",
      "metadata": {
        "id": "qc_PEOdlqx9e",
        "colab_type": "code",
        "colab": {
          "base_uri": "https://localhost:8080/",
          "height": 369
        },
        "outputId": "86007a3a-b559-49d5-fcb7-c4c8b176cf9b"
      },
      "source": [
        "import tensorflow_model_optimization as tfmot\n",
        "from tensorflow import keras\n",
        "\n",
        "quantize_model = tfmot.quantization.keras.quantize_model\n",
        "# q_aware stands for for quantization aware.\n",
        "q_aware_model = quantize_model(model)\n",
        "optimizer = keras.optimizers.Adam(lr=0.0001)\n",
        "# `quantize_model` requires a recompile.\n",
        "q_aware_model.compile(optimizer=optimizer,loss='mean_squared_error')\n",
        "q_aware_model.summary()"
      ],
      "execution_count": 3,
      "outputs": [
        {
          "output_type": "stream",
          "text": [
            "Model: \"sequential_1\"\n",
            "_________________________________________________________________\n",
            "Layer (type)                 Output Shape              Param #   \n",
            "=================================================================\n",
            "quantize_layer (QuantizeLaye (None, 2)                 3         \n",
            "_________________________________________________________________\n",
            "quant_dense_1 (QuantizeWrapp (None, 16)                53        \n",
            "_________________________________________________________________\n",
            "quant_dense_2 (QuantizeWrapp (None, 32)                549       \n",
            "_________________________________________________________________\n",
            "quant_dense_3 (QuantizeWrapp (None, 64)                2117      \n",
            "_________________________________________________________________\n",
            "quant_dense_4 (QuantizeWrapp (None, 64)                4165      \n",
            "_________________________________________________________________\n",
            "quant_dense_5 (QuantizeWrapp (None, 1)                 70        \n",
            "=================================================================\n",
            "Total params: 6,957\n",
            "Trainable params: 6,929\n",
            "Non-trainable params: 28\n",
            "_________________________________________________________________\n"
          ],
          "name": "stdout"
        }
      ]
    },
    {
      "cell_type": "code",
      "metadata": {
        "id": "3pcRUKPFuSgn",
        "colab_type": "code",
        "colab": {}
      },
      "source": [
        "q_aware_model.save('Intel_quantize_aware_model.h5')"
      ],
      "execution_count": 4,
      "outputs": []
    },
    {
      "cell_type": "code",
      "metadata": {
        "id": "fCPt2Ry-urjc",
        "colab_type": "code",
        "colab": {
          "base_uri": "https://localhost:8080/",
          "height": 52
        },
        "outputId": "0d1ab93a-7301-4cf2-df20-58d7e5405370"
      },
      "source": [
        "import tensorflow as tf\n",
        "converter = tf.lite.TFLiteConverter.from_keras_model(q_aware_model)\n",
        "# converter.optimizations = [tf.lite.Optimize.DEFAULT]\n",
        "\n",
        "optimize=\"Speed\"\n",
        "if optimize=='Speed':\n",
        "    converter.optimizations = [tf.lite.Optimize.OPTIMIZE_FOR_LATENCY]\n",
        "elif optimize=='Storage':\n",
        "     converter.optimizations = [tf.lite.Optimize.OPTIMIZE_FOR_SIZE]\n",
        "else:    \n",
        "    converter.optimizations = [tf.lite.Optimize.DEFAULT]\n",
        "#reduce the size of a floating point model by quantizing the weights to float16\n",
        "converter.target_spec.supported_types = [tf.float16]\n",
        "#save the quanitized model toa binary file\n",
        "\n",
        "quantized_tflite_model = converter.convert()\n",
        "with open('Intel_QAT.tflite16', 'wb') as f:\n",
        "  f.write(quantized_tflite_model)"
      ],
      "execution_count": 8,
      "outputs": [
        {
          "output_type": "stream",
          "text": [
            "INFO:tensorflow:Assets written to: /tmp/tmp3yf67vb6/assets\n"
          ],
          "name": "stdout"
        },
        {
          "output_type": "stream",
          "text": [
            "INFO:tensorflow:Assets written to: /tmp/tmp3yf67vb6/assets\n"
          ],
          "name": "stderr"
        }
      ]
    },
    {
      "cell_type": "code",
      "metadata": {
        "id": "3cfyx6TQUcQR",
        "colab_type": "code",
        "colab": {
          "base_uri": "https://localhost:8080/",
          "height": 52
        },
        "outputId": "af52fc6b-f2db-4724-c581-29fcfd25f126"
      },
      "source": [
        "# TensorFlow Lite converts full floating point to 8-bit integers\n",
        "# import tensorflow as tf\n",
        "# converter = tf.lite.TFLiteConverter.from_keras_model(q_aware_model)\n",
        "# converter.optimizations = [tf.lite.Optimize.DEFAULT]\n",
        "# quantized_tflite_model = converter.convert()\n",
        "# with open('Intel_QAT.tflite', 'wb') as f:\n",
        "#   f.write(quantized_tflite_model)"
      ],
      "execution_count": 32,
      "outputs": [
        {
          "output_type": "stream",
          "text": [
            "INFO:tensorflow:Assets written to: /tmp/tmp1c9iewrn/assets\n"
          ],
          "name": "stdout"
        },
        {
          "output_type": "stream",
          "text": [
            "INFO:tensorflow:Assets written to: /tmp/tmp1c9iewrn/assets\n"
          ],
          "name": "stderr"
        }
      ]
    },
    {
      "cell_type": "code",
      "metadata": {
        "id": "2l9-igLzWfeh",
        "colab_type": "code",
        "colab": {}
      },
      "source": [
        ""
      ],
      "execution_count": null,
      "outputs": []
    }
  ]
}