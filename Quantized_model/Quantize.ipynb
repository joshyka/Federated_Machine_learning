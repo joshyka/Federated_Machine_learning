{
  "nbformat": 4,
  "nbformat_minor": 0,
  "metadata": {
    "colab": {
      "name": "Quantize.ipynb",
      "provenance": [],
      "collapsed_sections": []
    },
    "kernelspec": {
      "name": "python3",
      "display_name": "Python 3"
    }
  },
  "cells": [
    {
      "cell_type": "code",
      "metadata": {
        "id": "FKDt8ck_orhU",
        "colab_type": "code",
        "colab": {}
      },
      "source": [
        "pip install -q tensorflow-model-optimization"
      ],
      "execution_count": 18,
      "outputs": []
    },
    {
      "cell_type": "code",
      "metadata": {
        "id": "9lWcWY0Uq-M8",
        "colab_type": "code",
        "colab": {
          "base_uri": "https://localhost:8080/",
          "height": 334
        },
        "outputId": "d50daaef-2282-4adc-b174-c3cbd3cbdccc"
      },
      "source": [
        "from keras.models import load_model\n",
        "model=load_model('global_model_100.h5')\n",
        "model.summary()"
      ],
      "execution_count": 19,
      "outputs": [
        {
          "output_type": "stream",
          "text": [
            "Model: \"sequential_1\"\n",
            "_________________________________________________________________\n",
            "Layer (type)                 Output Shape              Param #   \n",
            "=================================================================\n",
            "dense_1 (Dense)              (None, 16)                48        \n",
            "_________________________________________________________________\n",
            "dense_2 (Dense)              (None, 32)                544       \n",
            "_________________________________________________________________\n",
            "dense_3 (Dense)              (None, 64)                2112      \n",
            "_________________________________________________________________\n",
            "dense_4 (Dense)              (None, 64)                4160      \n",
            "_________________________________________________________________\n",
            "dense_5 (Dense)              (None, 1)                 65        \n",
            "=================================================================\n",
            "Total params: 6,929\n",
            "Trainable params: 6,929\n",
            "Non-trainable params: 0\n",
            "_________________________________________________________________\n"
          ],
          "name": "stdout"
        }
      ]
    },
    {
      "cell_type": "code",
      "metadata": {
        "id": "qc_PEOdlqx9e",
        "colab_type": "code",
        "colab": {
          "base_uri": "https://localhost:8080/",
          "height": 369
        },
        "outputId": "16d1331d-f132-4356-c877-5fbb88b5bab5"
      },
      "source": [
        "import tensorflow_model_optimization as tfmot\n",
        "from tensorflow import keras\n",
        "\n",
        "quantize_model = tfmot.quantization.keras.quantize_model\n",
        "# q_aware stands for for quantization aware.\n",
        "q_aware_model = quantize_model(model)\n",
        "optimizer = keras.optimizers.Adam(lr=0.0001)\n",
        "# `quantize_model` requires a recompile.\n",
        "q_aware_model.compile(optimizer=optimizer,loss='mean_squared_error')\n",
        "q_aware_model.summary()"
      ],
      "execution_count": 20,
      "outputs": [
        {
          "output_type": "stream",
          "text": [
            "Model: \"sequential_1\"\n",
            "_________________________________________________________________\n",
            "Layer (type)                 Output Shape              Param #   \n",
            "=================================================================\n",
            "quantize_layer_4 (QuantizeLa (None, 2)                 3         \n",
            "_________________________________________________________________\n",
            "quant_dense_1 (QuantizeWrapp (None, 16)                53        \n",
            "_________________________________________________________________\n",
            "quant_dense_2 (QuantizeWrapp (None, 32)                549       \n",
            "_________________________________________________________________\n",
            "quant_dense_3 (QuantizeWrapp (None, 64)                2117      \n",
            "_________________________________________________________________\n",
            "quant_dense_4 (QuantizeWrapp (None, 64)                4165      \n",
            "_________________________________________________________________\n",
            "quant_dense_5 (QuantizeWrapp (None, 1)                 70        \n",
            "=================================================================\n",
            "Total params: 6,957\n",
            "Trainable params: 6,929\n",
            "Non-trainable params: 28\n",
            "_________________________________________________________________\n"
          ],
          "name": "stdout"
        }
      ]
    },
    {
      "cell_type": "code",
      "metadata": {
        "id": "3pcRUKPFuSgn",
        "colab_type": "code",
        "colab": {}
      },
      "source": [
        "q_aware_model.save('Intel_quantize_aware_model.h5')"
      ],
      "execution_count": 21,
      "outputs": []
    },
    {
      "cell_type": "code",
      "metadata": {
        "id": "fCPt2Ry-urjc",
        "colab_type": "code",
        "colab": {
          "base_uri": "https://localhost:8080/",
          "height": 52
        },
        "outputId": "bc33de5c-8421-417b-f9ab-47eb6042f428"
      },
      "source": [
        "import tensorflow as tf\n",
        "# converter = tf.lite.TFLiteConverter.from_keras_model(q_aware_model)\n",
        "# converter.optimizations = [tf.lite.Optimize.DEFAULT]\n",
        "\n",
        "optimize=\"Speed\"\n",
        "if optimize=='Speed':\n",
        "    converter.optimizations = [tf.lite.Optimize.OPTIMIZE_FOR_LATENCY]\n",
        "elif optimize=='Storage':\n",
        "     converter.optimizations = [tf.lite.Optimize.OPTIMIZE_FOR_SIZE]\n",
        "else:    \n",
        "    converter.optimizations = [tf.lite.Optimize.DEFAULT]\n",
        "#reduce the size of a floating point model by quantizing the weights to float16\n",
        "converter.target_spec.supported_types = [tf.float16]\n",
        "#save the quanitized model toa binary file\n",
        "\n",
        "quantized_tflite_model = converter.convert()\n",
        "with open('Intel_QAT.tflite16', 'wb') as f:\n",
        "  f.write(quantized_tflite_model)"
      ],
      "execution_count": 31,
      "outputs": [
        {
          "output_type": "stream",
          "text": [
            "INFO:tensorflow:Assets written to: /tmp/tmpkxt33d46/assets\n"
          ],
          "name": "stdout"
        },
        {
          "output_type": "stream",
          "text": [
            "INFO:tensorflow:Assets written to: /tmp/tmpkxt33d46/assets\n"
          ],
          "name": "stderr"
        }
      ]
    },
    {
      "cell_type": "code",
      "metadata": {
        "id": "3cfyx6TQUcQR",
        "colab_type": "code",
        "colab": {}
      },
      "source": [
        "# import tensorflow as tf\n",
        "# # converter = tf.lite.TFLiteConverter.from_keras_model(q_aware_model)\n",
        "# # converter.optimizations = [tf.lite.Optimize.DEFAULT]\n",
        "\n",
        "# optimize=\"Speed\"\n",
        "# if optimize=='Speed':\n",
        "#     converter.optimizations = [tf.lite.Optimize.OPTIMIZE_FOR_LATENCY]\n",
        "# elif optimize=='Storage':\n",
        "#      converter.optimizations = [tf.lite.Optimize.OPTIMIZE_FOR_SIZE]\n",
        "# else:    \n",
        "#     converter.optimizations = [tf.lite.Optimize.DEFAULT]\n",
        "# #reduce the size of a floating point model by quantizing the weights to float16\n",
        "# converter.target_spec.supported_types = [tf.float16]\n",
        "# #save the quanitized model toa binary file\n",
        "\n",
        "# quantized_tflite_model = converter.convert()\n",
        "# with open('Intel_QAT.tflite16', 'wb') as f:\n",
        "#   f.write(quantized_tflite_model)"
      ],
      "execution_count": null,
      "outputs": []
    },
    {
      "cell_type": "code",
      "metadata": {
        "id": "2l9-igLzWfeh",
        "colab_type": "code",
        "colab": {}
      },
      "source": [
        ""
      ],
      "execution_count": null,
      "outputs": []
    }
  ]
}