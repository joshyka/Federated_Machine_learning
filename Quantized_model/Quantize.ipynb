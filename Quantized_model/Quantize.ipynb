{
  "nbformat": 4,
  "nbformat_minor": 0,
  "metadata": {
    "colab": {
      "name": "Quantize.ipynb",
      "provenance": []
    },
    "kernelspec": {
      "name": "python3",
      "display_name": "Python 3"
    }
  },
  "cells": [
    {
      "cell_type": "code",
      "metadata": {
        "id": "FKDt8ck_orhU",
        "colab_type": "code",
        "colab": {
          "base_uri": "https://localhost:8080/",
          "height": 34
        },
        "outputId": "cce0f31f-c408-4a21-bdcf-7fb01583dcdd"
      },
      "source": [
        "pip install -q tensorflow-model-optimization"
      ],
      "execution_count": 1,
      "outputs": [
        {
          "output_type": "stream",
          "text": [
            "\u001b[?25l\r\u001b[K     |██                              | 10kB 19.3MB/s eta 0:00:01\r\u001b[K     |███▉                            | 20kB 1.8MB/s eta 0:00:01\r\u001b[K     |█████▊                          | 30kB 2.6MB/s eta 0:00:01\r\u001b[K     |███████▋                        | 40kB 3.4MB/s eta 0:00:01\r\u001b[K     |█████████▌                      | 51kB 2.2MB/s eta 0:00:01\r\u001b[K     |███████████▍                    | 61kB 2.6MB/s eta 0:00:01\r\u001b[K     |█████████████▎                  | 71kB 3.0MB/s eta 0:00:01\r\u001b[K     |███████████████▏                | 81kB 3.4MB/s eta 0:00:01\r\u001b[K     |█████████████████               | 92kB 2.6MB/s eta 0:00:01\r\u001b[K     |███████████████████             | 102kB 2.9MB/s eta 0:00:01\r\u001b[K     |████████████████████▉           | 112kB 2.9MB/s eta 0:00:01\r\u001b[K     |██████████████████████▊         | 122kB 2.9MB/s eta 0:00:01\r\u001b[K     |████████████████████████▊       | 133kB 2.9MB/s eta 0:00:01\r\u001b[K     |██████████████████████████▋     | 143kB 2.9MB/s eta 0:00:01\r\u001b[K     |████████████████████████████▌   | 153kB 2.9MB/s eta 0:00:01\r\u001b[K     |██████████████████████████████▍ | 163kB 2.9MB/s eta 0:00:01\r\u001b[K     |████████████████████████████████| 174kB 2.9MB/s \n",
            "\u001b[?25h"
          ],
          "name": "stdout"
        }
      ]
    },
    {
      "cell_type": "code",
      "metadata": {
        "id": "9lWcWY0Uq-M8",
        "colab_type": "code",
        "colab": {
          "base_uri": "https://localhost:8080/",
          "height": 334
        },
        "outputId": "b788ed7e-360d-42f8-87fe-d3bacefceb72"
      },
      "source": [
        "from keras.models import load_model\n",
        "model=load_model('global_model_100.h5')\n",
        "model.summary()"
      ],
      "execution_count": 9,
      "outputs": [
        {
          "output_type": "stream",
          "text": [
            "Model: \"sequential_1\"\n",
            "_________________________________________________________________\n",
            "Layer (type)                 Output Shape              Param #   \n",
            "=================================================================\n",
            "dense_1 (Dense)              (None, 16)                48        \n",
            "_________________________________________________________________\n",
            "dense_2 (Dense)              (None, 32)                544       \n",
            "_________________________________________________________________\n",
            "dense_3 (Dense)              (None, 64)                2112      \n",
            "_________________________________________________________________\n",
            "dense_4 (Dense)              (None, 64)                4160      \n",
            "_________________________________________________________________\n",
            "dense_5 (Dense)              (None, 1)                 65        \n",
            "=================================================================\n",
            "Total params: 6,929\n",
            "Trainable params: 6,929\n",
            "Non-trainable params: 0\n",
            "_________________________________________________________________\n"
          ],
          "name": "stdout"
        }
      ]
    },
    {
      "cell_type": "code",
      "metadata": {
        "id": "qc_PEOdlqx9e",
        "colab_type": "code",
        "colab": {
          "base_uri": "https://localhost:8080/",
          "height": 369
        },
        "outputId": "63f2401b-2f86-4ab9-e6fa-9f6fa2ad20cb"
      },
      "source": [
        "import tensorflow_model_optimization as tfmot\n",
        "from tensorflow import keras\n",
        "\n",
        "quantize_model = tfmot.quantization.keras.quantize_model\n",
        "# q_aware stands for for quantization aware.\n",
        "q_aware_model = quantize_model(model)\n",
        "optimizer = keras.optimizers.Adam(lr=0.0001)\n",
        "# `quantize_model` requires a recompile.\n",
        "q_aware_model.compile(optimizer=optimizer,loss='mean_squared_error')\n",
        "q_aware_model.summary()"
      ],
      "execution_count": 11,
      "outputs": [
        {
          "output_type": "stream",
          "text": [
            "Model: \"sequential_1\"\n",
            "_________________________________________________________________\n",
            "Layer (type)                 Output Shape              Param #   \n",
            "=================================================================\n",
            "quantize_layer_3 (QuantizeLa (None, 2)                 3         \n",
            "_________________________________________________________________\n",
            "quant_dense_1 (QuantizeWrapp (None, 16)                53        \n",
            "_________________________________________________________________\n",
            "quant_dense_2 (QuantizeWrapp (None, 32)                549       \n",
            "_________________________________________________________________\n",
            "quant_dense_3 (QuantizeWrapp (None, 64)                2117      \n",
            "_________________________________________________________________\n",
            "quant_dense_4 (QuantizeWrapp (None, 64)                4165      \n",
            "_________________________________________________________________\n",
            "quant_dense_5 (QuantizeWrapp (None, 1)                 70        \n",
            "=================================================================\n",
            "Total params: 6,957\n",
            "Trainable params: 6,929\n",
            "Non-trainable params: 28\n",
            "_________________________________________________________________\n"
          ],
          "name": "stdout"
        }
      ]
    },
    {
      "cell_type": "code",
      "metadata": {
        "id": "3pcRUKPFuSgn",
        "colab_type": "code",
        "colab": {}
      },
      "source": [
        "q_aware_model.save('Intel_quantize_aware_model.h5')"
      ],
      "execution_count": 13,
      "outputs": []
    },
    {
      "cell_type": "code",
      "metadata": {
        "id": "fCPt2Ry-urjc",
        "colab_type": "code",
        "colab": {
          "base_uri": "https://localhost:8080/",
          "height": 160
        },
        "outputId": "c38d6181-ec28-427c-8987-6fa4f777def4"
      },
      "source": [
        "import tensorflow as tf\n",
        "converter = tf.lite.TFLiteConverter.from_keras_model(q_aware_model)\n",
        "converter.optimizations = [tf.lite.Optimize.DEFAULT]\n",
        "quantized_tflite_model = converter.convert()\n",
        "with open('Intel_QAT.tflite', 'wb') as f:\n",
        "  f.write(quantized_tflite_model)"
      ],
      "execution_count": 15,
      "outputs": [
        {
          "output_type": "stream",
          "text": [
            "WARNING:tensorflow:From /usr/local/lib/python3.6/dist-packages/tensorflow/python/training/tracking/tracking.py:111: Model.state_updates (from tensorflow.python.keras.engine.training) is deprecated and will be removed in a future version.\n",
            "Instructions for updating:\n",
            "This property should not be used in TensorFlow 2.0, as updates are applied automatically.\n",
            "WARNING:tensorflow:From /usr/local/lib/python3.6/dist-packages/tensorflow/python/training/tracking/tracking.py:111: Layer.updates (from tensorflow.python.keras.engine.base_layer) is deprecated and will be removed in a future version.\n",
            "Instructions for updating:\n",
            "This property should not be used in TensorFlow 2.0, as updates are applied automatically.\n",
            "INFO:tensorflow:Assets written to: /tmp/tmp3rjpu5pi/assets\n"
          ],
          "name": "stdout"
        }
      ]
    },
    {
      "cell_type": "code",
      "metadata": {
        "id": "a-dVzb3MwRLG",
        "colab_type": "code",
        "colab": {}
      },
      "source": [
        ""
      ],
      "execution_count": null,
      "outputs": []
    }
  ]
}